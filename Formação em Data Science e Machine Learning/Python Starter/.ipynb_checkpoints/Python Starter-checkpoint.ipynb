{
 "cells": [
  {
   "cell_type": "markdown",
   "id": "daf64250-2550-4532-ad30-d5956155e922",
   "metadata": {
    "jp-MarkdownHeadingCollapsed": true,
    "tags": []
   },
   "source": [
    "# Números"
   ]
  },
  {
   "cell_type": "code",
   "execution_count": 8,
   "id": "f889b081-7900-4ccf-9a2b-568df73e4b5e",
   "metadata": {},
   "outputs": [
    {
     "data": {
      "text/plain": [
       "3"
      ]
     },
     "execution_count": 8,
     "metadata": {},
     "output_type": "execute_result"
    }
   ],
   "source": [
    "### Soma\n",
    "2 + 1"
   ]
  },
  {
   "cell_type": "code",
   "execution_count": 9,
   "id": "ff5188f4-c952-4426-97d9-6cc93e631ac8",
   "metadata": {},
   "outputs": [
    {
     "data": {
      "text/plain": [
       "1"
      ]
     },
     "execution_count": 9,
     "metadata": {},
     "output_type": "execute_result"
    }
   ],
   "source": [
    "### Subtração\n",
    "2 - 1"
   ]
  },
  {
   "cell_type": "code",
   "execution_count": 10,
   "id": "35b29e1b-a358-4ebe-81a4-2be407fbba31",
   "metadata": {},
   "outputs": [
    {
     "data": {
      "text/plain": [
       "4"
      ]
     },
     "execution_count": 10,
     "metadata": {},
     "output_type": "execute_result"
    }
   ],
   "source": [
    "### Multiplicação\n",
    "2 * 2"
   ]
  },
  {
   "cell_type": "code",
   "execution_count": 11,
   "id": "18e1ba91-9582-4503-a9ba-b8a458db2fe5",
   "metadata": {},
   "outputs": [
    {
     "data": {
      "text/plain": [
       "1.0"
      ]
     },
     "execution_count": 11,
     "metadata": {},
     "output_type": "execute_result"
    }
   ],
   "source": [
    "### Divisão\n",
    "2 / 2"
   ]
  },
  {
   "cell_type": "code",
   "execution_count": 14,
   "id": "5a2ec066-8933-4caa-af58-9a5d3ccd9ba9",
   "metadata": {},
   "outputs": [
    {
     "data": {
      "text/plain": [
       "9"
      ]
     },
     "execution_count": 14,
     "metadata": {},
     "output_type": "execute_result"
    }
   ],
   "source": [
    "### Potência\n",
    "3 ** 2"
   ]
  },
  {
   "cell_type": "code",
   "execution_count": 15,
   "id": "3b1df2d5-61c1-4cdb-beea-26a43609bf79",
   "metadata": {},
   "outputs": [
    {
     "data": {
      "text/plain": [
       "2.0"
      ]
     },
     "execution_count": 15,
     "metadata": {},
     "output_type": "execute_result"
    }
   ],
   "source": [
    "### Raiz Quadrada\n",
    "4 ** (1 / 2)"
   ]
  },
  {
   "cell_type": "code",
   "execution_count": 17,
   "id": "d40dbb36-0abe-4d6a-b187-1b84edb99d74",
   "metadata": {},
   "outputs": [
    {
     "data": {
      "text/plain": [
       "12"
      ]
     },
     "execution_count": 17,
     "metadata": {},
     "output_type": "execute_result"
    }
   ],
   "source": [
    "### Altera ordem de ser calculado ( Primeiro calcula o que está em parenteses )\n",
    "(2 + 2) + 4 * 2"
   ]
  },
  {
   "cell_type": "markdown",
   "id": "89124f9f-eb2e-4419-a64d-e831dfa60158",
   "metadata": {
    "jp-MarkdownHeadingCollapsed": true,
    "tags": []
   },
   "source": [
    "# Variáveis"
   ]
  },
  {
   "cell_type": "code",
   "execution_count": 18,
   "id": "8c906f8e-a679-4c1f-94fb-65bcea0d82d3",
   "metadata": {},
   "outputs": [],
   "source": [
    "a = 5"
   ]
  },
  {
   "cell_type": "code",
   "execution_count": 19,
   "id": "b490ff32-0e19-4f98-8163-5870de0396eb",
   "metadata": {},
   "outputs": [
    {
     "data": {
      "text/plain": [
       "5"
      ]
     },
     "execution_count": 19,
     "metadata": {},
     "output_type": "execute_result"
    }
   ],
   "source": [
    "a"
   ]
  },
  {
   "cell_type": "markdown",
   "id": "892bedaf-3c3e-4d60-a9dd-bae0a1ebc022",
   "metadata": {},
   "source": [
    "### Regras de váriaveis\n",
    "\n",
    "* Não pode começar com número\n",
    "* Não pode haver espaço entre os nomes\n",
    "* Não pode colocar # @\n",
    "* Sempre com letras minúsculas"
   ]
  },
  {
   "cell_type": "code",
   "execution_count": 20,
   "id": "4f71bf52-3cd7-4c92-94de-e4fd7c94dec6",
   "metadata": {},
   "outputs": [],
   "source": [
    "variavel_1 = 2"
   ]
  },
  {
   "cell_type": "code",
   "execution_count": 21,
   "id": "95f279a4-bc09-4cde-ad7a-21a1665564f4",
   "metadata": {},
   "outputs": [
    {
     "data": {
      "text/plain": [
       "7"
      ]
     },
     "execution_count": 21,
     "metadata": {},
     "output_type": "execute_result"
    }
   ],
   "source": [
    "variavel_1 + a"
   ]
  },
  {
   "cell_type": "code",
   "execution_count": 22,
   "id": "2e5eed2f-0b6d-4d14-8732-3b458b5a94ef",
   "metadata": {},
   "outputs": [],
   "source": [
    "terceira_variavel = variavel_1 + a"
   ]
  },
  {
   "cell_type": "code",
   "execution_count": 23,
   "id": "b02f8ec0-0b0d-4447-9da6-8f4a9b562a8f",
   "metadata": {},
   "outputs": [
    {
     "data": {
      "text/plain": [
       "7"
      ]
     },
     "execution_count": 23,
     "metadata": {},
     "output_type": "execute_result"
    }
   ],
   "source": [
    "terceira_variavel"
   ]
  },
  {
   "cell_type": "code",
   "execution_count": 25,
   "id": "fbc56b92-57f3-48e2-b7e4-84c55844c99c",
   "metadata": {},
   "outputs": [
    {
     "data": {
      "text/plain": [
       "7"
      ]
     },
     "execution_count": 25,
     "metadata": {},
     "output_type": "execute_result"
    }
   ],
   "source": [
    "terceira_variavel = variavel_1 + a\n",
    "terceira_variavel"
   ]
  },
  {
   "cell_type": "code",
   "execution_count": 26,
   "id": "f42c4c07-f039-46a5-a3d6-d7afa91b4554",
   "metadata": {},
   "outputs": [
    {
     "name": "stdout",
     "output_type": "stream",
     "text": [
      "7\n"
     ]
    }
   ],
   "source": [
    "terceira_variavel = variavel_1 + a\n",
    "print(terceira_variavel)"
   ]
  },
  {
   "cell_type": "code",
   "execution_count": 27,
   "id": "1461afcb-b9a6-4fec-862f-e2ac7da8961d",
   "metadata": {},
   "outputs": [],
   "source": [
    "a = a ** 2"
   ]
  },
  {
   "cell_type": "code",
   "execution_count": 28,
   "id": "7e04cddf-431b-483f-bb85-4ece8907a119",
   "metadata": {},
   "outputs": [
    {
     "data": {
      "text/plain": [
       "25"
      ]
     },
     "execution_count": 28,
     "metadata": {},
     "output_type": "execute_result"
    }
   ],
   "source": [
    "a"
   ]
  },
  {
   "cell_type": "markdown",
   "id": "182f4bb7-3046-4f7f-a889-18c9c238c8ae",
   "metadata": {
    "jp-MarkdownHeadingCollapsed": true,
    "tags": []
   },
   "source": [
    "# String e Indexação"
   ]
  },
  {
   "cell_type": "code",
   "execution_count": 29,
   "id": "1725c0ba-7b7b-47dd-b52b-1cae535d83db",
   "metadata": {},
   "outputs": [],
   "source": [
    "minha_string = \"hello\""
   ]
  },
  {
   "cell_type": "code",
   "execution_count": 31,
   "id": "07c6bcba-ed52-45bc-b9bd-723a841ae783",
   "metadata": {},
   "outputs": [
    {
     "data": {
      "text/plain": [
       "'hello'"
      ]
     },
     "execution_count": 31,
     "metadata": {},
     "output_type": "execute_result"
    }
   ],
   "source": [
    "minha_string"
   ]
  },
  {
   "cell_type": "code",
   "execution_count": 32,
   "id": "558bf293-597a-4bea-8013-f4a4f6df983b",
   "metadata": {},
   "outputs": [],
   "source": [
    "minha_string2 = \"isto é uma string\""
   ]
  },
  {
   "cell_type": "code",
   "execution_count": 33,
   "id": "85f0b65a-5cf0-49e3-aeb6-b08f859faaec",
   "metadata": {},
   "outputs": [
    {
     "data": {
      "text/plain": [
       "'isto é uma string'"
      ]
     },
     "execution_count": 33,
     "metadata": {},
     "output_type": "execute_result"
    }
   ],
   "source": [
    "minha_string2"
   ]
  },
  {
   "cell_type": "code",
   "execution_count": 34,
   "id": "f5040e69-41a3-4f05-b8b1-ab4cc9bdf216",
   "metadata": {},
   "outputs": [],
   "source": [
    "minha_string3 = 'isto é uma \"aspas\" string'"
   ]
  },
  {
   "cell_type": "code",
   "execution_count": 35,
   "id": "6f625e64-6ac8-4896-80e7-08177002b809",
   "metadata": {},
   "outputs": [
    {
     "data": {
      "text/plain": [
       "'isto é uma \"aspas\" string'"
      ]
     },
     "execution_count": 35,
     "metadata": {},
     "output_type": "execute_result"
    }
   ],
   "source": [
    "minha_string3"
   ]
  },
  {
   "cell_type": "code",
   "execution_count": 37,
   "id": "4f018c1f-34c2-4e10-a265-453293ed78f5",
   "metadata": {},
   "outputs": [
    {
     "name": "stdout",
     "output_type": "stream",
     "text": [
      "isto é uma \"aspas\" string\n"
     ]
    }
   ],
   "source": [
    "print(minha_string3)"
   ]
  },
  {
   "cell_type": "code",
   "execution_count": 39,
   "id": "fbc81b5e-593f-4af9-bfbd-5aa622a4f0c6",
   "metadata": {},
   "outputs": [
    {
     "data": {
      "text/plain": [
       "17"
      ]
     },
     "execution_count": 39,
     "metadata": {},
     "output_type": "execute_result"
    }
   ],
   "source": [
    "#Mostra tamanho da string (total de letras e espaços)\n",
    "len(minha_string2)"
   ]
  },
  {
   "cell_type": "code",
   "execution_count": 40,
   "id": "d699097c-4d84-48d7-8f9f-fbaf30fddace",
   "metadata": {},
   "outputs": [
    {
     "data": {
      "text/plain": [
       "'isto é uma string'"
      ]
     },
     "execution_count": 40,
     "metadata": {},
     "output_type": "execute_result"
    }
   ],
   "source": [
    "minha_string2"
   ]
  },
  {
   "cell_type": "code",
   "execution_count": 43,
   "id": "4018e92a-7b77-4fe1-8aa4-2c665a681247",
   "metadata": {},
   "outputs": [
    {
     "data": {
      "text/plain": [
       "'isto é uma string teste hello'"
      ]
     },
     "execution_count": 43,
     "metadata": {},
     "output_type": "execute_result"
    }
   ],
   "source": [
    "minha_string2 + \" teste \" + minha_string"
   ]
  },
  {
   "cell_type": "code",
   "execution_count": 46,
   "id": "218e5460-c943-40d7-a131-dab839f49b60",
   "metadata": {},
   "outputs": [
    {
     "data": {
      "text/plain": [
       "'hello'"
      ]
     },
     "execution_count": 46,
     "metadata": {},
     "output_type": "execute_result"
    }
   ],
   "source": [
    "minha_string"
   ]
  },
  {
   "cell_type": "code",
   "execution_count": 54,
   "id": "0aae51f9-b2df-4985-a946-4c4328c842c5",
   "metadata": {},
   "outputs": [
    {
     "data": {
      "text/plain": [
       "'h'"
      ]
     },
     "execution_count": 54,
     "metadata": {},
     "output_type": "execute_result"
    }
   ],
   "source": [
    "#Pega elementos\n",
    "minha_string[0]"
   ]
  },
  {
   "cell_type": "code",
   "execution_count": 53,
   "id": "82d248ab-c996-469b-ba25-a083b4a61070",
   "metadata": {},
   "outputs": [
    {
     "data": {
      "text/plain": [
       "'el'"
      ]
     },
     "execution_count": 53,
     "metadata": {},
     "output_type": "execute_result"
    }
   ],
   "source": [
    "#Pega elementos do 1 ao 3\n",
    "minha_string[1:3]"
   ]
  },
  {
   "cell_type": "code",
   "execution_count": 52,
   "id": "c64e5546-dc8c-490f-ae0f-7c38cc7e3410",
   "metadata": {},
   "outputs": [
    {
     "data": {
      "text/plain": [
       "'h'"
      ]
     },
     "execution_count": 52,
     "metadata": {},
     "output_type": "execute_result"
    }
   ],
   "source": [
    "#Pega elementos trás para frente\n",
    "minha_string[-5]"
   ]
  },
  {
   "cell_type": "code",
   "execution_count": 55,
   "id": "919dd3d4-af95-49aa-b651-c89b35546486",
   "metadata": {},
   "outputs": [
    {
     "data": {
      "text/plain": [
       "'hlo'"
      ]
     },
     "execution_count": 55,
     "metadata": {},
     "output_type": "execute_result"
    }
   ],
   "source": [
    "#Pula elementos em 2 em 2\n",
    "minha_string[::2]"
   ]
  },
  {
   "cell_type": "code",
   "execution_count": 57,
   "id": "3c3e8d8c-c697-4f2e-a8f9-f453dae4f36e",
   "metadata": {},
   "outputs": [
    {
     "data": {
      "text/plain": [
       "'aaaaaaaaaa'"
      ]
     },
     "execution_count": 57,
     "metadata": {},
     "output_type": "execute_result"
    }
   ],
   "source": [
    "#Repete a mesma string 10 vezes\n",
    "\"a\" * 10"
   ]
  },
  {
   "cell_type": "code",
   "execution_count": 60,
   "id": "8e199cf7-dda1-40c9-b24c-9495daf77153",
   "metadata": {},
   "outputs": [
    {
     "data": {
      "text/plain": [
       "str"
      ]
     },
     "execution_count": 60,
     "metadata": {},
     "output_type": "execute_result"
    }
   ],
   "source": [
    "#fala o tipo de dado\n",
    "type(\"A\")"
   ]
  },
  {
   "cell_type": "code",
   "execution_count": 62,
   "id": "7b6b4565-09f4-4a0b-8938-83b12a9ddc13",
   "metadata": {},
   "outputs": [
    {
     "data": {
      "text/plain": [
       "['__add__',\n",
       " '__class__',\n",
       " '__contains__',\n",
       " '__delattr__',\n",
       " '__dir__',\n",
       " '__doc__',\n",
       " '__eq__',\n",
       " '__format__',\n",
       " '__ge__',\n",
       " '__getattribute__',\n",
       " '__getitem__',\n",
       " '__getnewargs__',\n",
       " '__gt__',\n",
       " '__hash__',\n",
       " '__init__',\n",
       " '__init_subclass__',\n",
       " '__iter__',\n",
       " '__le__',\n",
       " '__len__',\n",
       " '__lt__',\n",
       " '__mod__',\n",
       " '__mul__',\n",
       " '__ne__',\n",
       " '__new__',\n",
       " '__reduce__',\n",
       " '__reduce_ex__',\n",
       " '__repr__',\n",
       " '__rmod__',\n",
       " '__rmul__',\n",
       " '__setattr__',\n",
       " '__sizeof__',\n",
       " '__str__',\n",
       " '__subclasshook__',\n",
       " 'capitalize',\n",
       " 'casefold',\n",
       " 'center',\n",
       " 'count',\n",
       " 'encode',\n",
       " 'endswith',\n",
       " 'expandtabs',\n",
       " 'find',\n",
       " 'format',\n",
       " 'format_map',\n",
       " 'index',\n",
       " 'isalnum',\n",
       " 'isalpha',\n",
       " 'isascii',\n",
       " 'isdecimal',\n",
       " 'isdigit',\n",
       " 'isidentifier',\n",
       " 'islower',\n",
       " 'isnumeric',\n",
       " 'isprintable',\n",
       " 'isspace',\n",
       " 'istitle',\n",
       " 'isupper',\n",
       " 'join',\n",
       " 'ljust',\n",
       " 'lower',\n",
       " 'lstrip',\n",
       " 'maketrans',\n",
       " 'partition',\n",
       " 'removeprefix',\n",
       " 'removesuffix',\n",
       " 'replace',\n",
       " 'rfind',\n",
       " 'rindex',\n",
       " 'rjust',\n",
       " 'rpartition',\n",
       " 'rsplit',\n",
       " 'rstrip',\n",
       " 'split',\n",
       " 'splitlines',\n",
       " 'startswith',\n",
       " 'strip',\n",
       " 'swapcase',\n",
       " 'title',\n",
       " 'translate',\n",
       " 'upper',\n",
       " 'zfill']"
      ]
     },
     "execution_count": 62,
     "metadata": {},
     "output_type": "execute_result"
    }
   ],
   "source": [
    "#Mostra metodos que podem ser usados\n",
    "dir(\"hello\")"
   ]
  },
  {
   "cell_type": "code",
   "execution_count": 63,
   "id": "adaef7ae-79a0-4522-b74d-0c07e070d686",
   "metadata": {},
   "outputs": [
    {
     "data": {
      "text/plain": [
       "'hello'"
      ]
     },
     "execution_count": 63,
     "metadata": {},
     "output_type": "execute_result"
    }
   ],
   "source": [
    "# Deixa tudo em minusculo\n",
    "\"Hello\".lower()"
   ]
  },
  {
   "cell_type": "code",
   "execution_count": 64,
   "id": "71692913-6e21-41c7-83b8-111d7fb09fab",
   "metadata": {},
   "outputs": [
    {
     "data": {
      "text/plain": [
       "'HELLO'"
      ]
     },
     "execution_count": 64,
     "metadata": {},
     "output_type": "execute_result"
    }
   ],
   "source": [
    "\"Hello\".upper()"
   ]
  },
  {
   "cell_type": "code",
   "execution_count": 67,
   "id": "f13d461e-babc-48f3-a3e7-47dadd804457",
   "metadata": {},
   "outputs": [
    {
     "data": {
      "text/plain": [
       "['He', '', 'o Kauã']"
      ]
     },
     "execution_count": 67,
     "metadata": {},
     "output_type": "execute_result"
    }
   ],
   "source": [
    "# Corta string em todos os caracteres\n",
    "\"Hello Kauã\".split(\"l\")"
   ]
  },
  {
   "cell_type": "code",
   "execution_count": 70,
   "id": "1411a268-4950-4ec3-b87e-dcbe081e8aee",
   "metadata": {},
   "outputs": [
    {
     "data": {
      "text/plain": [
       "'Idade da pessoa é: 10'"
      ]
     },
     "execution_count": 70,
     "metadata": {},
     "output_type": "execute_result"
    }
   ],
   "source": [
    "idade = 10\n",
    "\"Idade da pessoa é: {}\".format(idade)"
   ]
  },
  {
   "cell_type": "code",
   "execution_count": 71,
   "id": "25da19b4-3fc4-482c-a7fb-0a551eb75646",
   "metadata": {},
   "outputs": [
    {
     "data": {
      "text/plain": [
       "'Idade da pessoa é: 19 e o nome é Kauã'"
      ]
     },
     "execution_count": 71,
     "metadata": {},
     "output_type": "execute_result"
    }
   ],
   "source": [
    "idade = 19\n",
    "nome = \"Kauã\"\n",
    "\"Idade da pessoa é: {} e o nome é {}\".format(idade, nome)"
   ]
  },
  {
   "cell_type": "code",
   "execution_count": 72,
   "id": "8098ca75-efad-427d-9b95-34d9fb17e926",
   "metadata": {},
   "outputs": [
    {
     "data": {
      "text/plain": [
       "'Idade da pessoa é: 19 e o nome é Kauã'"
      ]
     },
     "execution_count": 72,
     "metadata": {},
     "output_type": "execute_result"
    }
   ],
   "source": [
    "idade = 19\n",
    "nome = \"Kauã\"\n",
    "\"Idade da pessoa é: {a} e o nome é {b}\".format(a=idade, b=nome)"
   ]
  },
  {
   "cell_type": "markdown",
   "id": "90495965-50c6-4d62-8c21-acd1f52d88ea",
   "metadata": {},
   "source": [
    "# Listas"
   ]
  },
  {
   "cell_type": "code",
   "execution_count": 1,
   "id": "c5d41d10-8e79-445b-aa9a-8909c4f95c6e",
   "metadata": {},
   "outputs": [],
   "source": [
    "minha_lista = [1, 2, 3]"
   ]
  },
  {
   "cell_type": "code",
   "execution_count": 2,
   "id": "0aca32aa-befd-4704-be18-46f7ab8c02f7",
   "metadata": {},
   "outputs": [
    {
     "data": {
      "text/plain": [
       "[1, 2, 3]"
      ]
     },
     "execution_count": 2,
     "metadata": {},
     "output_type": "execute_result"
    }
   ],
   "source": [
    "minha_lista"
   ]
  },
  {
   "cell_type": "code",
   "execution_count": 3,
   "id": "dbe21bfb-e3fc-4ada-b819-808df418a185",
   "metadata": {},
   "outputs": [
    {
     "data": {
      "text/plain": [
       "list"
      ]
     },
     "execution_count": 3,
     "metadata": {},
     "output_type": "execute_result"
    }
   ],
   "source": [
    "type(minha_lista)"
   ]
  },
  {
   "cell_type": "code",
   "execution_count": 4,
   "id": "15f2c6cf-7b57-46e9-b078-20e4f193ca01",
   "metadata": {},
   "outputs": [
    {
     "data": {
      "text/plain": [
       "2"
      ]
     },
     "execution_count": 4,
     "metadata": {},
     "output_type": "execute_result"
    }
   ],
   "source": [
    "#Pega elementos das listas\n",
    "minha_lista[1]"
   ]
  },
  {
   "cell_type": "code",
   "execution_count": 5,
   "id": "4ce6ada9-7a03-444c-b3b8-f2bf345060fa",
   "metadata": {},
   "outputs": [
    {
     "data": {
      "text/plain": [
       "[1, 2, 3]"
      ]
     },
     "execution_count": 5,
     "metadata": {},
     "output_type": "execute_result"
    }
   ],
   "source": [
    "#Pega todos os elementos da lista\n",
    "minha_lista[:]"
   ]
  },
  {
   "cell_type": "code",
   "execution_count": 6,
   "id": "9d56daf9-8315-4361-a9ec-375b67e4b2c1",
   "metadata": {},
   "outputs": [],
   "source": [
    "#Lista dentro de lista\n",
    "minha_lista = [1, 2, \"hello\", [1, 2, 3]]"
   ]
  },
  {
   "cell_type": "code",
   "execution_count": 7,
   "id": "74929353-492a-474e-87cc-91a5635d39b0",
   "metadata": {},
   "outputs": [
    {
     "data": {
      "text/plain": [
       "[2, 3]"
      ]
     },
     "execution_count": 7,
     "metadata": {},
     "output_type": "execute_result"
    }
   ],
   "source": [
    "#Selecionando elementos de lista dentro de lista\n",
    "minha_lista[3][1:]"
   ]
  },
  {
   "cell_type": "code",
   "execution_count": 8,
   "id": "64062eaf-4a51-4e16-9b4f-4a723e35f2a7",
   "metadata": {},
   "outputs": [
    {
     "data": {
      "text/plain": [
       "'HELLO'"
      ]
     },
     "execution_count": 8,
     "metadata": {},
     "output_type": "execute_result"
    }
   ],
   "source": [
    "minha_lista[2].upper()"
   ]
  },
  {
   "cell_type": "markdown",
   "id": "e59e6901-7b11-4b10-830c-c1293341e813",
   "metadata": {},
   "source": [
    "### Métodos básicos de listas"
   ]
  },
  {
   "cell_type": "code",
   "execution_count": 9,
   "id": "d17fbe6b-9251-49e5-aeaa-3e9174f98b6d",
   "metadata": {},
   "outputs": [],
   "source": [
    "l = [1, 2, 3]"
   ]
  },
  {
   "cell_type": "code",
   "execution_count": 12,
   "id": "34664db6-d037-4c03-bf81-2f1859deac50",
   "metadata": {},
   "outputs": [],
   "source": [
    "#Adiciona item ao final da lista\n",
    "l.append(\"4\")"
   ]
  },
  {
   "cell_type": "code",
   "execution_count": 13,
   "id": "a93790a1-2d6d-4d57-8c12-a3d8fe265bda",
   "metadata": {},
   "outputs": [
    {
     "data": {
      "text/plain": [
       "[1, 2, 3, '4', '4']"
      ]
     },
     "execution_count": 13,
     "metadata": {},
     "output_type": "execute_result"
    }
   ],
   "source": [
    "l"
   ]
  },
  {
   "cell_type": "code",
   "execution_count": 16,
   "id": "1ce30454-db9e-4b73-b363-108719f6cb2e",
   "metadata": {},
   "outputs": [
    {
     "data": {
      "text/plain": [
       "'4'"
      ]
     },
     "execution_count": 16,
     "metadata": {},
     "output_type": "execute_result"
    }
   ],
   "source": [
    "#remove ultimo valor da lista\n",
    "l.pop()"
   ]
  },
  {
   "cell_type": "code",
   "execution_count": 17,
   "id": "33291ec7-e54c-455f-955d-234e96f4ad4c",
   "metadata": {},
   "outputs": [
    {
     "data": {
      "text/plain": [
       "[1, 2, 3]"
      ]
     },
     "execution_count": 17,
     "metadata": {},
     "output_type": "execute_result"
    }
   ],
   "source": [
    "l"
   ]
  },
  {
   "cell_type": "code",
   "execution_count": 18,
   "id": "bbc4f65d-b792-4126-8bd9-0d65f82ffeac",
   "metadata": {},
   "outputs": [],
   "source": [
    "new_list = [\"a\", \"b\", \"c\", \"d\"]"
   ]
  },
  {
   "cell_type": "code",
   "execution_count": 20,
   "id": "ca41e801-15fe-4316-a99a-806d3d725a96",
   "metadata": {},
   "outputs": [],
   "source": [
    "new_list.sort()"
   ]
  },
  {
   "cell_type": "code",
   "execution_count": 21,
   "id": "c2f611ad-23e2-42a8-aac7-57796d3cc102",
   "metadata": {},
   "outputs": [
    {
     "data": {
      "text/plain": [
       "['a', 'b', 'c', 'd']"
      ]
     },
     "execution_count": 21,
     "metadata": {},
     "output_type": "execute_result"
    }
   ],
   "source": [
    "new_list"
   ]
  },
  {
   "cell_type": "code",
   "execution_count": 25,
   "id": "a77aec4a-ff95-4c07-8c2a-53736ccdb102",
   "metadata": {},
   "outputs": [],
   "source": [
    "#Inverte ordem da lista\n",
    "new_list.reverse()"
   ]
  },
  {
   "cell_type": "code",
   "execution_count": 26,
   "id": "95f10e43-53fa-4450-b8b0-b6aca49d4f71",
   "metadata": {},
   "outputs": [
    {
     "data": {
      "text/plain": [
       "['d', 'c', 'b', 'a']"
      ]
     },
     "execution_count": 26,
     "metadata": {},
     "output_type": "execute_result"
    }
   ],
   "source": [
    "new_list"
   ]
  },
  {
   "cell_type": "code",
   "execution_count": 27,
   "id": "49814d4d-f7cb-4708-9120-4b1136642bed",
   "metadata": {},
   "outputs": [],
   "source": [
    "list1 = [1, 2, 3]\n",
    "list2 = [4, 5, 6]\n",
    "list3 = [7, 8, 9]"
   ]
  },
  {
   "cell_type": "code",
   "execution_count": 28,
   "id": "d3a7bc86-c8d2-46f4-9d1e-9e1324e745be",
   "metadata": {},
   "outputs": [],
   "source": [
    "list4 = [list1, list2, list3]"
   ]
  },
  {
   "cell_type": "raw",
   "id": "5acae468-251d-4050-ac83-a087219da0b8",
   "metadata": {},
   "source": [
    "print(list4)"
   ]
  }
 ],
 "metadata": {
  "kernelspec": {
   "display_name": "Python 3 (ipykernel)",
   "language": "python",
   "name": "python3"
  },
  "language_info": {
   "codemirror_mode": {
    "name": "ipython",
    "version": 3
   },
   "file_extension": ".py",
   "mimetype": "text/x-python",
   "name": "python",
   "nbconvert_exporter": "python",
   "pygments_lexer": "ipython3",
   "version": "3.10.9"
  }
 },
 "nbformat": 4,
 "nbformat_minor": 5
}
