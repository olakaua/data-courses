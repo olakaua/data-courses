{
 "cells": [
  {
   "cell_type": "markdown",
   "id": "daf64250-2550-4532-ad30-d5956155e922",
   "metadata": {
    "jp-MarkdownHeadingCollapsed": true,
    "tags": []
   },
   "source": [
    "# Números"
   ]
  },
  {
   "cell_type": "code",
   "execution_count": 15,
   "id": "f889b081-7900-4ccf-9a2b-568df73e4b5e",
   "metadata": {},
   "outputs": [
    {
     "data": {
      "text/plain": [
       "3"
      ]
     },
     "execution_count": 15,
     "metadata": {},
     "output_type": "execute_result"
    }
   ],
   "source": [
    "### Soma\n",
    "2 + 1"
   ]
  },
  {
   "cell_type": "code",
   "execution_count": 16,
   "id": "ff5188f4-c952-4426-97d9-6cc93e631ac8",
   "metadata": {},
   "outputs": [
    {
     "data": {
      "text/plain": [
       "1"
      ]
     },
     "execution_count": 16,
     "metadata": {},
     "output_type": "execute_result"
    }
   ],
   "source": [
    "### Subtração\n",
    "2 - 1"
   ]
  },
  {
   "cell_type": "code",
   "execution_count": 17,
   "id": "35b29e1b-a358-4ebe-81a4-2be407fbba31",
   "metadata": {},
   "outputs": [
    {
     "data": {
      "text/plain": [
       "4"
      ]
     },
     "execution_count": 17,
     "metadata": {},
     "output_type": "execute_result"
    }
   ],
   "source": [
    "### Multiplicação\n",
    "2 * 2"
   ]
  },
  {
   "cell_type": "code",
   "execution_count": 18,
   "id": "18e1ba91-9582-4503-a9ba-b8a458db2fe5",
   "metadata": {},
   "outputs": [
    {
     "data": {
      "text/plain": [
       "1.0"
      ]
     },
     "execution_count": 18,
     "metadata": {},
     "output_type": "execute_result"
    }
   ],
   "source": [
    "### Divisão\n",
    "2 / 2"
   ]
  },
  {
   "cell_type": "code",
   "execution_count": 19,
   "id": "5a2ec066-8933-4caa-af58-9a5d3ccd9ba9",
   "metadata": {},
   "outputs": [
    {
     "data": {
      "text/plain": [
       "9"
      ]
     },
     "execution_count": 19,
     "metadata": {},
     "output_type": "execute_result"
    }
   ],
   "source": [
    "### Potência\n",
    "3 ** 2"
   ]
  },
  {
   "cell_type": "code",
   "execution_count": 20,
   "id": "3b1df2d5-61c1-4cdb-beea-26a43609bf79",
   "metadata": {},
   "outputs": [
    {
     "data": {
      "text/plain": [
       "2.0"
      ]
     },
     "execution_count": 20,
     "metadata": {},
     "output_type": "execute_result"
    }
   ],
   "source": [
    "### Raiz Quadrada\n",
    "4 ** (1 / 2)"
   ]
  },
  {
   "cell_type": "code",
   "execution_count": 21,
   "id": "d40dbb36-0abe-4d6a-b187-1b84edb99d74",
   "metadata": {},
   "outputs": [
    {
     "data": {
      "text/plain": [
       "12"
      ]
     },
     "execution_count": 21,
     "metadata": {},
     "output_type": "execute_result"
    }
   ],
   "source": [
    "### Altera ordem de ser calculado ( Primeiro calcula o que está em parenteses )\n",
    "(2 + 2) + 4 * 2"
   ]
  },
  {
   "cell_type": "markdown",
   "id": "89124f9f-eb2e-4419-a64d-e831dfa60158",
   "metadata": {
    "jp-MarkdownHeadingCollapsed": true,
    "tags": []
   },
   "source": [
    "# Variáveis"
   ]
  },
  {
   "cell_type": "code",
   "execution_count": 22,
   "id": "8c906f8e-a679-4c1f-94fb-65bcea0d82d3",
   "metadata": {},
   "outputs": [],
   "source": [
    "a = 5"
   ]
  },
  {
   "cell_type": "code",
   "execution_count": 23,
   "id": "b490ff32-0e19-4f98-8163-5870de0396eb",
   "metadata": {},
   "outputs": [
    {
     "data": {
      "text/plain": [
       "5"
      ]
     },
     "execution_count": 23,
     "metadata": {},
     "output_type": "execute_result"
    }
   ],
   "source": [
    "a"
   ]
  },
  {
   "cell_type": "markdown",
   "id": "892bedaf-3c3e-4d60-a9dd-bae0a1ebc022",
   "metadata": {},
   "source": [
    "### Regras de váriaveis\n",
    "\n",
    "* Não pode começar com número\n",
    "* Não pode haver espaço entre os nomes\n",
    "* Não pode colocar # @\n",
    "* Sempre com letras minúsculas"
   ]
  },
  {
   "cell_type": "code",
   "execution_count": 24,
   "id": "4f71bf52-3cd7-4c92-94de-e4fd7c94dec6",
   "metadata": {},
   "outputs": [],
   "source": [
    "variavel_1 = 2"
   ]
  },
  {
   "cell_type": "code",
   "execution_count": 25,
   "id": "95f279a4-bc09-4cde-ad7a-21a1665564f4",
   "metadata": {},
   "outputs": [
    {
     "data": {
      "text/plain": [
       "7"
      ]
     },
     "execution_count": 25,
     "metadata": {},
     "output_type": "execute_result"
    }
   ],
   "source": [
    "variavel_1 + a"
   ]
  },
  {
   "cell_type": "code",
   "execution_count": 26,
   "id": "2e5eed2f-0b6d-4d14-8732-3b458b5a94ef",
   "metadata": {},
   "outputs": [],
   "source": [
    "terceira_variavel = variavel_1 + a"
   ]
  },
  {
   "cell_type": "code",
   "execution_count": 27,
   "id": "b02f8ec0-0b0d-4447-9da6-8f4a9b562a8f",
   "metadata": {},
   "outputs": [
    {
     "data": {
      "text/plain": [
       "7"
      ]
     },
     "execution_count": 27,
     "metadata": {},
     "output_type": "execute_result"
    }
   ],
   "source": [
    "terceira_variavel"
   ]
  },
  {
   "cell_type": "code",
   "execution_count": 28,
   "id": "fbc56b92-57f3-48e2-b7e4-84c55844c99c",
   "metadata": {},
   "outputs": [
    {
     "data": {
      "text/plain": [
       "7"
      ]
     },
     "execution_count": 28,
     "metadata": {},
     "output_type": "execute_result"
    }
   ],
   "source": [
    "terceira_variavel = variavel_1 + a\n",
    "terceira_variavel"
   ]
  },
  {
   "cell_type": "code",
   "execution_count": 29,
   "id": "f42c4c07-f039-46a5-a3d6-d7afa91b4554",
   "metadata": {},
   "outputs": [
    {
     "name": "stdout",
     "output_type": "stream",
     "text": [
      "7\n"
     ]
    }
   ],
   "source": [
    "terceira_variavel = variavel_1 + a\n",
    "print(terceira_variavel)"
   ]
  },
  {
   "cell_type": "code",
   "execution_count": 30,
   "id": "1461afcb-b9a6-4fec-862f-e2ac7da8961d",
   "metadata": {},
   "outputs": [],
   "source": [
    "a = a ** 2"
   ]
  },
  {
   "cell_type": "code",
   "execution_count": 31,
   "id": "7e04cddf-431b-483f-bb85-4ece8907a119",
   "metadata": {},
   "outputs": [
    {
     "data": {
      "text/plain": [
       "25"
      ]
     },
     "execution_count": 31,
     "metadata": {},
     "output_type": "execute_result"
    }
   ],
   "source": [
    "a"
   ]
  },
  {
   "cell_type": "markdown",
   "id": "182f4bb7-3046-4f7f-a889-18c9c238c8ae",
   "metadata": {
    "jp-MarkdownHeadingCollapsed": true,
    "tags": []
   },
   "source": [
    "# String e Indexação"
   ]
  },
  {
   "cell_type": "code",
   "execution_count": 32,
   "id": "1725c0ba-7b7b-47dd-b52b-1cae535d83db",
   "metadata": {},
   "outputs": [],
   "source": [
    "minha_string = \"hello\""
   ]
  },
  {
   "cell_type": "code",
   "execution_count": 33,
   "id": "07c6bcba-ed52-45bc-b9bd-723a841ae783",
   "metadata": {},
   "outputs": [
    {
     "data": {
      "text/plain": [
       "'hello'"
      ]
     },
     "execution_count": 33,
     "metadata": {},
     "output_type": "execute_result"
    }
   ],
   "source": [
    "minha_string"
   ]
  },
  {
   "cell_type": "code",
   "execution_count": 34,
   "id": "558bf293-597a-4bea-8013-f4a4f6df983b",
   "metadata": {},
   "outputs": [],
   "source": [
    "minha_string2 = \"isto é uma string\""
   ]
  },
  {
   "cell_type": "code",
   "execution_count": 35,
   "id": "85f0b65a-5cf0-49e3-aeb6-b08f859faaec",
   "metadata": {},
   "outputs": [
    {
     "data": {
      "text/plain": [
       "'isto é uma string'"
      ]
     },
     "execution_count": 35,
     "metadata": {},
     "output_type": "execute_result"
    }
   ],
   "source": [
    "minha_string2"
   ]
  },
  {
   "cell_type": "code",
   "execution_count": 36,
   "id": "f5040e69-41a3-4f05-b8b1-ab4cc9bdf216",
   "metadata": {},
   "outputs": [],
   "source": [
    "minha_string3 = 'isto é uma \"aspas\" string'"
   ]
  },
  {
   "cell_type": "code",
   "execution_count": 37,
   "id": "6f625e64-6ac8-4896-80e7-08177002b809",
   "metadata": {},
   "outputs": [
    {
     "data": {
      "text/plain": [
       "'isto é uma \"aspas\" string'"
      ]
     },
     "execution_count": 37,
     "metadata": {},
     "output_type": "execute_result"
    }
   ],
   "source": [
    "minha_string3"
   ]
  },
  {
   "cell_type": "code",
   "execution_count": 38,
   "id": "4f018c1f-34c2-4e10-a265-453293ed78f5",
   "metadata": {},
   "outputs": [
    {
     "name": "stdout",
     "output_type": "stream",
     "text": [
      "isto é uma \"aspas\" string\n"
     ]
    }
   ],
   "source": [
    "print(minha_string3)"
   ]
  },
  {
   "cell_type": "code",
   "execution_count": 39,
   "id": "fbc81b5e-593f-4af9-bfbd-5aa622a4f0c6",
   "metadata": {},
   "outputs": [
    {
     "data": {
      "text/plain": [
       "17"
      ]
     },
     "execution_count": 39,
     "metadata": {},
     "output_type": "execute_result"
    }
   ],
   "source": [
    "#Mostra tamanho da string (total de letras e espaços)\n",
    "len(minha_string2)"
   ]
  },
  {
   "cell_type": "code",
   "execution_count": 40,
   "id": "d699097c-4d84-48d7-8f9f-fbaf30fddace",
   "metadata": {},
   "outputs": [
    {
     "data": {
      "text/plain": [
       "'isto é uma string'"
      ]
     },
     "execution_count": 40,
     "metadata": {},
     "output_type": "execute_result"
    }
   ],
   "source": [
    "minha_string2"
   ]
  },
  {
   "cell_type": "code",
   "execution_count": 41,
   "id": "4018e92a-7b77-4fe1-8aa4-2c665a681247",
   "metadata": {},
   "outputs": [
    {
     "data": {
      "text/plain": [
       "'isto é uma string teste hello'"
      ]
     },
     "execution_count": 41,
     "metadata": {},
     "output_type": "execute_result"
    }
   ],
   "source": [
    "minha_string2 + \" teste \" + minha_string"
   ]
  },
  {
   "cell_type": "code",
   "execution_count": 42,
   "id": "218e5460-c943-40d7-a131-dab839f49b60",
   "metadata": {},
   "outputs": [
    {
     "data": {
      "text/plain": [
       "'hello'"
      ]
     },
     "execution_count": 42,
     "metadata": {},
     "output_type": "execute_result"
    }
   ],
   "source": [
    "minha_string"
   ]
  },
  {
   "cell_type": "code",
   "execution_count": 43,
   "id": "0aae51f9-b2df-4985-a946-4c4328c842c5",
   "metadata": {},
   "outputs": [
    {
     "data": {
      "text/plain": [
       "'h'"
      ]
     },
     "execution_count": 43,
     "metadata": {},
     "output_type": "execute_result"
    }
   ],
   "source": [
    "#Pega elementos\n",
    "minha_string[0]"
   ]
  },
  {
   "cell_type": "code",
   "execution_count": 44,
   "id": "82d248ab-c996-469b-ba25-a083b4a61070",
   "metadata": {},
   "outputs": [
    {
     "data": {
      "text/plain": [
       "'el'"
      ]
     },
     "execution_count": 44,
     "metadata": {},
     "output_type": "execute_result"
    }
   ],
   "source": [
    "#Pega elementos do 1 ao 3\n",
    "minha_string[1:3]"
   ]
  },
  {
   "cell_type": "code",
   "execution_count": 45,
   "id": "c64e5546-dc8c-490f-ae0f-7c38cc7e3410",
   "metadata": {},
   "outputs": [
    {
     "data": {
      "text/plain": [
       "'h'"
      ]
     },
     "execution_count": 45,
     "metadata": {},
     "output_type": "execute_result"
    }
   ],
   "source": [
    "#Pega elementos trás para frente\n",
    "minha_string[-5]"
   ]
  },
  {
   "cell_type": "code",
   "execution_count": 46,
   "id": "919dd3d4-af95-49aa-b651-c89b35546486",
   "metadata": {},
   "outputs": [
    {
     "data": {
      "text/plain": [
       "'hlo'"
      ]
     },
     "execution_count": 46,
     "metadata": {},
     "output_type": "execute_result"
    }
   ],
   "source": [
    "#Pula elementos em 2 em 2\n",
    "minha_string[::2]"
   ]
  },
  {
   "cell_type": "code",
   "execution_count": 47,
   "id": "3c3e8d8c-c697-4f2e-a8f9-f453dae4f36e",
   "metadata": {},
   "outputs": [
    {
     "data": {
      "text/plain": [
       "'aaaaaaaaaa'"
      ]
     },
     "execution_count": 47,
     "metadata": {},
     "output_type": "execute_result"
    }
   ],
   "source": [
    "#Repete a mesma string 10 vezes\n",
    "\"a\" * 10"
   ]
  },
  {
   "cell_type": "code",
   "execution_count": 48,
   "id": "8e199cf7-dda1-40c9-b24c-9495daf77153",
   "metadata": {},
   "outputs": [
    {
     "data": {
      "text/plain": [
       "str"
      ]
     },
     "execution_count": 48,
     "metadata": {},
     "output_type": "execute_result"
    }
   ],
   "source": [
    "#fala o tipo de dado\n",
    "type(\"A\")"
   ]
  },
  {
   "cell_type": "code",
   "execution_count": 49,
   "id": "7b6b4565-09f4-4a0b-8938-83b12a9ddc13",
   "metadata": {},
   "outputs": [
    {
     "data": {
      "text/plain": [
       "['__add__',\n",
       " '__class__',\n",
       " '__contains__',\n",
       " '__delattr__',\n",
       " '__dir__',\n",
       " '__doc__',\n",
       " '__eq__',\n",
       " '__format__',\n",
       " '__ge__',\n",
       " '__getattribute__',\n",
       " '__getitem__',\n",
       " '__getnewargs__',\n",
       " '__gt__',\n",
       " '__hash__',\n",
       " '__init__',\n",
       " '__init_subclass__',\n",
       " '__iter__',\n",
       " '__le__',\n",
       " '__len__',\n",
       " '__lt__',\n",
       " '__mod__',\n",
       " '__mul__',\n",
       " '__ne__',\n",
       " '__new__',\n",
       " '__reduce__',\n",
       " '__reduce_ex__',\n",
       " '__repr__',\n",
       " '__rmod__',\n",
       " '__rmul__',\n",
       " '__setattr__',\n",
       " '__sizeof__',\n",
       " '__str__',\n",
       " '__subclasshook__',\n",
       " 'capitalize',\n",
       " 'casefold',\n",
       " 'center',\n",
       " 'count',\n",
       " 'encode',\n",
       " 'endswith',\n",
       " 'expandtabs',\n",
       " 'find',\n",
       " 'format',\n",
       " 'format_map',\n",
       " 'index',\n",
       " 'isalnum',\n",
       " 'isalpha',\n",
       " 'isascii',\n",
       " 'isdecimal',\n",
       " 'isdigit',\n",
       " 'isidentifier',\n",
       " 'islower',\n",
       " 'isnumeric',\n",
       " 'isprintable',\n",
       " 'isspace',\n",
       " 'istitle',\n",
       " 'isupper',\n",
       " 'join',\n",
       " 'ljust',\n",
       " 'lower',\n",
       " 'lstrip',\n",
       " 'maketrans',\n",
       " 'partition',\n",
       " 'removeprefix',\n",
       " 'removesuffix',\n",
       " 'replace',\n",
       " 'rfind',\n",
       " 'rindex',\n",
       " 'rjust',\n",
       " 'rpartition',\n",
       " 'rsplit',\n",
       " 'rstrip',\n",
       " 'split',\n",
       " 'splitlines',\n",
       " 'startswith',\n",
       " 'strip',\n",
       " 'swapcase',\n",
       " 'title',\n",
       " 'translate',\n",
       " 'upper',\n",
       " 'zfill']"
      ]
     },
     "execution_count": 49,
     "metadata": {},
     "output_type": "execute_result"
    }
   ],
   "source": [
    "#Mostra metodos que podem ser usados\n",
    "dir(\"hello\")"
   ]
  },
  {
   "cell_type": "code",
   "execution_count": 50,
   "id": "adaef7ae-79a0-4522-b74d-0c07e070d686",
   "metadata": {},
   "outputs": [
    {
     "data": {
      "text/plain": [
       "'hello'"
      ]
     },
     "execution_count": 50,
     "metadata": {},
     "output_type": "execute_result"
    }
   ],
   "source": [
    "# Deixa tudo em minusculo\n",
    "\"Hello\".lower()"
   ]
  },
  {
   "cell_type": "code",
   "execution_count": 51,
   "id": "71692913-6e21-41c7-83b8-111d7fb09fab",
   "metadata": {},
   "outputs": [
    {
     "data": {
      "text/plain": [
       "'HELLO'"
      ]
     },
     "execution_count": 51,
     "metadata": {},
     "output_type": "execute_result"
    }
   ],
   "source": [
    "\"Hello\".upper()"
   ]
  },
  {
   "cell_type": "code",
   "execution_count": 52,
   "id": "f13d461e-babc-48f3-a3e7-47dadd804457",
   "metadata": {},
   "outputs": [
    {
     "data": {
      "text/plain": [
       "['He', '', 'o Kauã']"
      ]
     },
     "execution_count": 52,
     "metadata": {},
     "output_type": "execute_result"
    }
   ],
   "source": [
    "# Corta string em todos os caracteres\n",
    "\"Hello Kauã\".split(\"l\")"
   ]
  },
  {
   "cell_type": "code",
   "execution_count": 53,
   "id": "1411a268-4950-4ec3-b87e-dcbe081e8aee",
   "metadata": {},
   "outputs": [
    {
     "data": {
      "text/plain": [
       "'Idade da pessoa é: 10'"
      ]
     },
     "execution_count": 53,
     "metadata": {},
     "output_type": "execute_result"
    }
   ],
   "source": [
    "idade = 10\n",
    "\"Idade da pessoa é: {}\".format(idade)"
   ]
  },
  {
   "cell_type": "code",
   "execution_count": 54,
   "id": "25da19b4-3fc4-482c-a7fb-0a551eb75646",
   "metadata": {},
   "outputs": [
    {
     "data": {
      "text/plain": [
       "'Idade da pessoa é: 19 e o nome é Kauã'"
      ]
     },
     "execution_count": 54,
     "metadata": {},
     "output_type": "execute_result"
    }
   ],
   "source": [
    "idade = 19\n",
    "nome = \"Kauã\"\n",
    "\"Idade da pessoa é: {} e o nome é {}\".format(idade, nome)"
   ]
  },
  {
   "cell_type": "code",
   "execution_count": 55,
   "id": "8098ca75-efad-427d-9b95-34d9fb17e926",
   "metadata": {},
   "outputs": [
    {
     "data": {
      "text/plain": [
       "'Idade da pessoa é: 19 e o nome é Kauã'"
      ]
     },
     "execution_count": 55,
     "metadata": {},
     "output_type": "execute_result"
    }
   ],
   "source": [
    "idade = 19\n",
    "nome = \"Kauã\"\n",
    "\"Idade da pessoa é: {a} e o nome é {b}\".format(a=idade, b=nome)"
   ]
  },
  {
   "cell_type": "markdown",
   "id": "90495965-50c6-4d62-8c21-acd1f52d88ea",
   "metadata": {
    "jp-MarkdownHeadingCollapsed": true,
    "tags": []
   },
   "source": [
    "# Listas"
   ]
  },
  {
   "cell_type": "code",
   "execution_count": 56,
   "id": "c5d41d10-8e79-445b-aa9a-8909c4f95c6e",
   "metadata": {},
   "outputs": [],
   "source": [
    "minha_lista = [1, 2, 3]"
   ]
  },
  {
   "cell_type": "code",
   "execution_count": 57,
   "id": "0aca32aa-befd-4704-be18-46f7ab8c02f7",
   "metadata": {},
   "outputs": [
    {
     "data": {
      "text/plain": [
       "[1, 2, 3]"
      ]
     },
     "execution_count": 57,
     "metadata": {},
     "output_type": "execute_result"
    }
   ],
   "source": [
    "minha_lista"
   ]
  },
  {
   "cell_type": "code",
   "execution_count": 58,
   "id": "dbe21bfb-e3fc-4ada-b819-808df418a185",
   "metadata": {},
   "outputs": [
    {
     "data": {
      "text/plain": [
       "list"
      ]
     },
     "execution_count": 58,
     "metadata": {},
     "output_type": "execute_result"
    }
   ],
   "source": [
    "type(minha_lista)"
   ]
  },
  {
   "cell_type": "code",
   "execution_count": 59,
   "id": "15f2c6cf-7b57-46e9-b078-20e4f193ca01",
   "metadata": {},
   "outputs": [
    {
     "data": {
      "text/plain": [
       "2"
      ]
     },
     "execution_count": 59,
     "metadata": {},
     "output_type": "execute_result"
    }
   ],
   "source": [
    "#Pega elementos das listas\n",
    "minha_lista[1]"
   ]
  },
  {
   "cell_type": "code",
   "execution_count": 60,
   "id": "4ce6ada9-7a03-444c-b3b8-f2bf345060fa",
   "metadata": {},
   "outputs": [
    {
     "data": {
      "text/plain": [
       "[1, 2, 3]"
      ]
     },
     "execution_count": 60,
     "metadata": {},
     "output_type": "execute_result"
    }
   ],
   "source": [
    "#Pega todos os elementos da lista\n",
    "minha_lista[:]"
   ]
  },
  {
   "cell_type": "code",
   "execution_count": 61,
   "id": "9d56daf9-8315-4361-a9ec-375b67e4b2c1",
   "metadata": {},
   "outputs": [],
   "source": [
    "#Lista dentro de lista\n",
    "minha_lista = [1, 2, \"hello\", [1, 2, 3]]"
   ]
  },
  {
   "cell_type": "code",
   "execution_count": 62,
   "id": "74929353-492a-474e-87cc-91a5635d39b0",
   "metadata": {},
   "outputs": [
    {
     "data": {
      "text/plain": [
       "[2, 3]"
      ]
     },
     "execution_count": 62,
     "metadata": {},
     "output_type": "execute_result"
    }
   ],
   "source": [
    "#Selecionando elementos de lista dentro de lista\n",
    "minha_lista[3][1:]"
   ]
  },
  {
   "cell_type": "code",
   "execution_count": 63,
   "id": "64062eaf-4a51-4e16-9b4f-4a723e35f2a7",
   "metadata": {},
   "outputs": [
    {
     "data": {
      "text/plain": [
       "'HELLO'"
      ]
     },
     "execution_count": 63,
     "metadata": {},
     "output_type": "execute_result"
    }
   ],
   "source": [
    "minha_lista[2].upper()"
   ]
  },
  {
   "cell_type": "markdown",
   "id": "e59e6901-7b11-4b10-830c-c1293341e813",
   "metadata": {},
   "source": [
    "### Métodos básicos de listas"
   ]
  },
  {
   "cell_type": "code",
   "execution_count": 64,
   "id": "d17fbe6b-9251-49e5-aeaa-3e9174f98b6d",
   "metadata": {},
   "outputs": [],
   "source": [
    "l = [1, 2, 3]"
   ]
  },
  {
   "cell_type": "code",
   "execution_count": 65,
   "id": "34664db6-d037-4c03-bf81-2f1859deac50",
   "metadata": {},
   "outputs": [],
   "source": [
    "#Adiciona item ao final da lista\n",
    "l.append(\"4\")"
   ]
  },
  {
   "cell_type": "code",
   "execution_count": 66,
   "id": "a93790a1-2d6d-4d57-8c12-a3d8fe265bda",
   "metadata": {},
   "outputs": [
    {
     "data": {
      "text/plain": [
       "[1, 2, 3, '4']"
      ]
     },
     "execution_count": 66,
     "metadata": {},
     "output_type": "execute_result"
    }
   ],
   "source": [
    "l"
   ]
  },
  {
   "cell_type": "code",
   "execution_count": 67,
   "id": "1ce30454-db9e-4b73-b363-108719f6cb2e",
   "metadata": {},
   "outputs": [
    {
     "data": {
      "text/plain": [
       "'4'"
      ]
     },
     "execution_count": 67,
     "metadata": {},
     "output_type": "execute_result"
    }
   ],
   "source": [
    "#remove ultimo valor da lista\n",
    "l.pop()"
   ]
  },
  {
   "cell_type": "code",
   "execution_count": 68,
   "id": "33291ec7-e54c-455f-955d-234e96f4ad4c",
   "metadata": {},
   "outputs": [
    {
     "data": {
      "text/plain": [
       "[1, 2, 3]"
      ]
     },
     "execution_count": 68,
     "metadata": {},
     "output_type": "execute_result"
    }
   ],
   "source": [
    "l"
   ]
  },
  {
   "cell_type": "code",
   "execution_count": 69,
   "id": "bbc4f65d-b792-4126-8bd9-0d65f82ffeac",
   "metadata": {},
   "outputs": [],
   "source": [
    "new_list = [\"a\", \"b\", \"c\", \"d\"]"
   ]
  },
  {
   "cell_type": "code",
   "execution_count": 70,
   "id": "ca41e801-15fe-4316-a99a-806d3d725a96",
   "metadata": {},
   "outputs": [],
   "source": [
    "new_list.sort()"
   ]
  },
  {
   "cell_type": "code",
   "execution_count": 71,
   "id": "c2f611ad-23e2-42a8-aac7-57796d3cc102",
   "metadata": {},
   "outputs": [
    {
     "data": {
      "text/plain": [
       "['a', 'b', 'c', 'd']"
      ]
     },
     "execution_count": 71,
     "metadata": {},
     "output_type": "execute_result"
    }
   ],
   "source": [
    "new_list"
   ]
  },
  {
   "cell_type": "code",
   "execution_count": 72,
   "id": "a77aec4a-ff95-4c07-8c2a-53736ccdb102",
   "metadata": {},
   "outputs": [],
   "source": [
    "#Inverte ordem da lista\n",
    "new_list.reverse()"
   ]
  },
  {
   "cell_type": "code",
   "execution_count": 73,
   "id": "95f10e43-53fa-4450-b8b0-b6aca49d4f71",
   "metadata": {},
   "outputs": [
    {
     "data": {
      "text/plain": [
       "['d', 'c', 'b', 'a']"
      ]
     },
     "execution_count": 73,
     "metadata": {},
     "output_type": "execute_result"
    }
   ],
   "source": [
    "new_list"
   ]
  },
  {
   "cell_type": "code",
   "execution_count": 76,
   "id": "49814d4d-f7cb-4708-9120-4b1136642bed",
   "metadata": {},
   "outputs": [],
   "source": [
    "list1 = [1, 2, 3]\n",
    "list2 = [4, 5, 6]\n",
    "list3 = [7, 8, 9]"
   ]
  },
  {
   "cell_type": "code",
   "execution_count": 78,
   "id": "d3a7bc86-c8d2-46f4-9d1e-9e1324e745be",
   "metadata": {},
   "outputs": [],
   "source": [
    "#lista dentro de lista\n",
    "lista4 = [list1, list2, list3]"
   ]
  },
  {
   "cell_type": "code",
   "execution_count": 80,
   "id": "b4e49872-d61a-4c22-8f3c-8a1b60dd7f0e",
   "metadata": {},
   "outputs": [
    {
     "data": {
      "text/plain": [
       "[[1, 2, 3], [4, 5, 6], [7, 8, 9]]"
      ]
     },
     "execution_count": 80,
     "metadata": {},
     "output_type": "execute_result"
    }
   ],
   "source": [
    "lista4"
   ]
  },
  {
   "cell_type": "code",
   "execution_count": 84,
   "id": "7ffeb5c2-c8aa-43ff-b215-67fda6ad9c8d",
   "metadata": {},
   "outputs": [
    {
     "data": {
      "text/plain": [
       "5"
      ]
     },
     "execution_count": 84,
     "metadata": {},
     "output_type": "execute_result"
    }
   ],
   "source": [
    "#manupilando valores de dentro das listas\n",
    "lista4[1][1]"
   ]
  },
  {
   "cell_type": "markdown",
   "id": "a731897a-5ece-4a26-9d99-e827f113ec51",
   "metadata": {
    "jp-MarkdownHeadingCollapsed": true,
    "tags": []
   },
   "source": [
    "# Dicionários|"
   ]
  },
  {
   "cell_type": "code",
   "execution_count": 87,
   "id": "afeb8563-20a0-40cc-8ade-f51f4d499738",
   "metadata": {},
   "outputs": [],
   "source": [
    "meu_dicinario = {\"nome\": \"Kauã\", \"idade\": 19, \"filhos\": [\"kanami\", \"tartaruga\"]}"
   ]
  },
  {
   "cell_type": "code",
   "execution_count": 90,
   "id": "ddfa51b9-5666-4388-b9bd-8489748ce2f2",
   "metadata": {},
   "outputs": [
    {
     "data": {
      "text/plain": [
       "'Kauã'"
      ]
     },
     "execution_count": 90,
     "metadata": {},
     "output_type": "execute_result"
    }
   ],
   "source": [
    "meu_dicinario[\"nome\"]"
   ]
  },
  {
   "cell_type": "code",
   "execution_count": 94,
   "id": "ff103cc3-6231-4199-91d9-77213f77072e",
   "metadata": {},
   "outputs": [],
   "source": [
    "#mudar valores no dicionario\n",
    "meu_dicinario [\"idade\"] = 20"
   ]
  },
  {
   "cell_type": "code",
   "execution_count": 95,
   "id": "1347c1d4-8480-4a66-83a2-0bb7ba67e179",
   "metadata": {},
   "outputs": [
    {
     "data": {
      "text/plain": [
       "20"
      ]
     },
     "execution_count": 95,
     "metadata": {},
     "output_type": "execute_result"
    }
   ],
   "source": [
    "meu_dicinario[\"idade\"]"
   ]
  },
  {
   "cell_type": "code",
   "execution_count": 99,
   "id": "90067b2c-5397-4a79-93b1-28504a217c24",
   "metadata": {},
   "outputs": [],
   "source": [
    "#Adicionando valores no dicionario\n",
    "meu_dicinario[\"cidade\"] = \"São Paulo\""
   ]
  },
  {
   "cell_type": "code",
   "execution_count": 100,
   "id": "d64ea9dd-4bdd-4211-9c1a-d8367ccd5a86",
   "metadata": {},
   "outputs": [
    {
     "data": {
      "text/plain": [
       "{'nome': 'Kauã',\n",
       " 'idade': 20,\n",
       " 'filhos': ['kanami', 'tartaruga'],\n",
       " 'cidade': 'São Paulo'}"
      ]
     },
     "execution_count": 100,
     "metadata": {},
     "output_type": "execute_result"
    }
   ],
   "source": [
    "meu_dicinario"
   ]
  },
  {
   "cell_type": "code",
   "execution_count": 103,
   "id": "2cca2510-6c41-4a1e-b7f6-e255e3438de1",
   "metadata": {},
   "outputs": [],
   "source": [
    "#adicionando dicionario dentro de dicionario\n",
    "meu_dicinario[\"variavel aleatoria\"] = {\"a\": 1, \"b\":2}"
   ]
  },
  {
   "cell_type": "code",
   "execution_count": 104,
   "id": "9188e00f-d7ee-48b9-970b-271f7c11a603",
   "metadata": {},
   "outputs": [
    {
     "data": {
      "text/plain": [
       "{'nome': 'Kauã',\n",
       " 'idade': 20,\n",
       " 'filhos': ['kanami', 'tartaruga'],\n",
       " 'cidade': 'São Paulo',\n",
       " 'variavel aleatoria': {'a': 1, 'b': 2}}"
      ]
     },
     "execution_count": 104,
     "metadata": {},
     "output_type": "execute_result"
    }
   ],
   "source": [
    "meu_dicinario"
   ]
  },
  {
   "cell_type": "markdown",
   "id": "3bb3347c-88fd-4e56-b17d-ac5018477b17",
   "metadata": {
    "jp-MarkdownHeadingCollapsed": true,
    "tags": []
   },
   "source": [
    "# Tuplas"
   ]
  },
  {
   "cell_type": "code",
   "execution_count": null,
   "id": "625f475b-30c4-4353-beef-6dc0a7c3f62f",
   "metadata": {},
   "outputs": [],
   "source": [
    "# Tuplas não pode mudar os dados"
   ]
  },
  {
   "cell_type": "code",
   "execution_count": 107,
   "id": "9aa4a58a-f951-48a6-83d3-f308cf7e6805",
   "metadata": {},
   "outputs": [],
   "source": [
    "t = (1, 2, 3)"
   ]
  },
  {
   "cell_type": "code",
   "execution_count": 109,
   "id": "fbd436f9-401d-4827-a755-d57510fc19d7",
   "metadata": {},
   "outputs": [
    {
     "data": {
      "text/plain": [
       "2"
      ]
     },
     "execution_count": 109,
     "metadata": {},
     "output_type": "execute_result"
    }
   ],
   "source": [
    "t[1]"
   ]
  },
  {
   "cell_type": "code",
   "execution_count": 110,
   "id": "d1197826-eabd-4896-8213-856f839b5398",
   "metadata": {},
   "outputs": [
    {
     "data": {
      "text/plain": [
       "(1, 2)"
      ]
     },
     "execution_count": 110,
     "metadata": {},
     "output_type": "execute_result"
    }
   ],
   "source": [
    "t[:-1]"
   ]
  },
  {
   "cell_type": "code",
   "execution_count": 112,
   "id": "4dc72ec8-b579-4e99-89a8-5c8e2338e961",
   "metadata": {},
   "outputs": [],
   "source": [
    "# Define duas variaveis em uma linha so\n",
    "a, b = (1, 2)"
   ]
  },
  {
   "cell_type": "code",
   "execution_count": 113,
   "id": "a8a98091-8bac-4552-8c28-41fe0e7285d6",
   "metadata": {},
   "outputs": [
    {
     "data": {
      "text/plain": [
       "1"
      ]
     },
     "execution_count": 113,
     "metadata": {},
     "output_type": "execute_result"
    }
   ],
   "source": [
    "a"
   ]
  },
  {
   "cell_type": "code",
   "execution_count": 115,
   "id": "70e3745d-902b-4985-941b-1fd88adcd016",
   "metadata": {},
   "outputs": [
    {
     "data": {
      "text/plain": [
       "2"
      ]
     },
     "execution_count": 115,
     "metadata": {},
     "output_type": "execute_result"
    }
   ],
   "source": [
    "b"
   ]
  },
  {
   "cell_type": "markdown",
   "id": "30d4ecb2-62da-4677-8058-f2a40a1ffce2",
   "metadata": {
    "jp-MarkdownHeadingCollapsed": true,
    "tags": []
   },
   "source": [
    "# input(), Sets e Booleanos"
   ]
  },
  {
   "cell_type": "code",
   "execution_count": 122,
   "id": "e2ed0252-6619-4efd-9a28-e503e033929c",
   "metadata": {},
   "outputs": [
    {
     "name": "stdin",
     "output_type": "stream",
     "text": [
      " 123\n"
     ]
    }
   ],
   "source": [
    "# Recebe valores das pessoas\n",
    "a = input()"
   ]
  },
  {
   "cell_type": "code",
   "execution_count": 124,
   "id": "5b7cfa98-4f52-4abd-8f15-849befc44396",
   "metadata": {},
   "outputs": [
    {
     "data": {
      "text/plain": [
       "123"
      ]
     },
     "execution_count": 124,
     "metadata": {},
     "output_type": "execute_result"
    }
   ],
   "source": [
    "# converte para inteiro\n",
    "int(a)"
   ]
  },
  {
   "cell_type": "code",
   "execution_count": 125,
   "id": "1d49ad55-4d6c-4c02-b0f7-3d661375d333",
   "metadata": {},
   "outputs": [
    {
     "data": {
      "text/plain": [
       "123.0"
      ]
     },
     "execution_count": 125,
     "metadata": {},
     "output_type": "execute_result"
    }
   ],
   "source": [
    "#Converte para float\n",
    "float(a)"
   ]
  },
  {
   "cell_type": "markdown",
   "id": "97575c2d-d146-4dca-b61e-74973209722e",
   "metadata": {
    "tags": []
   },
   "source": [
    "### Sets"
   ]
  },
  {
   "cell_type": "code",
   "execution_count": 133,
   "id": "d00b96e5-1e37-4dec-b4b9-ed4779b714f7",
   "metadata": {},
   "outputs": [],
   "source": [
    "# Remove valores repitidos e/ou não permite adicionar valores repetidos a variavel\n",
    "x = set()"
   ]
  },
  {
   "cell_type": "code",
   "execution_count": 134,
   "id": "2063bd1d-7f8f-47ae-9c98-1e7d235dbe19",
   "metadata": {},
   "outputs": [
    {
     "data": {
      "text/plain": [
       "set()"
      ]
     },
     "execution_count": 134,
     "metadata": {},
     "output_type": "execute_result"
    }
   ],
   "source": [
    "x"
   ]
  },
  {
   "cell_type": "code",
   "execution_count": 135,
   "id": "dae08b14-0691-45f5-bc04-2de61a97a4d6",
   "metadata": {},
   "outputs": [
    {
     "data": {
      "text/plain": [
       "{1}"
      ]
     },
     "execution_count": 135,
     "metadata": {},
     "output_type": "execute_result"
    }
   ],
   "source": [
    "x.add(1)\n",
    "x"
   ]
  },
  {
   "cell_type": "code",
   "execution_count": 136,
   "id": "15cc3a21-e513-4985-955d-7ba2d95aeba7",
   "metadata": {},
   "outputs": [
    {
     "data": {
      "text/plain": [
       "{1, 2}"
      ]
     },
     "execution_count": 136,
     "metadata": {},
     "output_type": "execute_result"
    }
   ],
   "source": [
    "x.add(2)\n",
    "x"
   ]
  },
  {
   "cell_type": "code",
   "execution_count": 137,
   "id": "60ad88cb-42c3-4adb-ab6d-9ed751bd81c1",
   "metadata": {},
   "outputs": [
    {
     "data": {
      "text/plain": [
       "{1, 2, 3}"
      ]
     },
     "execution_count": 137,
     "metadata": {},
     "output_type": "execute_result"
    }
   ],
   "source": [
    "x.add(3)\n",
    "x"
   ]
  },
  {
   "cell_type": "code",
   "execution_count": 138,
   "id": "cac1ce26-98f4-4be1-a4a5-c6c882d66a0b",
   "metadata": {},
   "outputs": [
    {
     "data": {
      "text/plain": [
       "{1, 2, 3, 4}"
      ]
     },
     "execution_count": 138,
     "metadata": {},
     "output_type": "execute_result"
    }
   ],
   "source": [
    "x.add(4)\n",
    "x"
   ]
  },
  {
   "cell_type": "code",
   "execution_count": 139,
   "id": "0339f8bd-e5b3-481c-90c7-77c0f6968e4e",
   "metadata": {},
   "outputs": [],
   "source": [
    "l = [1, 2, 3, 4, 4, 4, 5, 5, 5]"
   ]
  },
  {
   "cell_type": "code",
   "execution_count": 140,
   "id": "b7e50586-76aa-4c76-aab7-7b078ea1cdc9",
   "metadata": {},
   "outputs": [
    {
     "data": {
      "text/plain": [
       "{1, 2, 3, 4, 5}"
      ]
     },
     "execution_count": 140,
     "metadata": {},
     "output_type": "execute_result"
    }
   ],
   "source": [
    "set(l)"
   ]
  },
  {
   "cell_type": "markdown",
   "id": "97fb46ab-66c5-45b6-b283-e702f2c1dd18",
   "metadata": {},
   "source": [
    "### Booleanos"
   ]
  },
  {
   "cell_type": "code",
   "execution_count": 142,
   "id": "baf8f0d1-887b-430d-91cc-dc677c414687",
   "metadata": {},
   "outputs": [],
   "source": [
    "a = True"
   ]
  },
  {
   "cell_type": "code",
   "execution_count": 143,
   "id": "2980e1f8-f7c0-46cf-9976-1a0ec30243ac",
   "metadata": {},
   "outputs": [],
   "source": [
    "b = False"
   ]
  },
  {
   "cell_type": "code",
   "execution_count": 144,
   "id": "275f3a62-d917-4096-b477-6c028f4f587f",
   "metadata": {},
   "outputs": [
    {
     "data": {
      "text/plain": [
       "False"
      ]
     },
     "execution_count": 144,
     "metadata": {},
     "output_type": "execute_result"
    }
   ],
   "source": [
    "1 > 2"
   ]
  },
  {
   "cell_type": "code",
   "execution_count": 145,
   "id": "248d7504-82ef-44e9-98eb-bc16ee6b5853",
   "metadata": {},
   "outputs": [
    {
     "data": {
      "text/plain": [
       "bool"
      ]
     },
     "execution_count": 145,
     "metadata": {},
     "output_type": "execute_result"
    }
   ],
   "source": [
    "type(1 > 2)"
   ]
  },
  {
   "cell_type": "code",
   "execution_count": 146,
   "id": "3a6e7079-fa8a-42d8-90a4-9591aaf33353",
   "metadata": {},
   "outputs": [
    {
     "data": {
      "text/plain": [
       "bool"
      ]
     },
     "execution_count": 146,
     "metadata": {},
     "output_type": "execute_result"
    }
   ],
   "source": [
    "type(a)"
   ]
  },
  {
   "cell_type": "markdown",
   "id": "4b0d45df-cb31-4876-b5f4-bb2dcf990442",
   "metadata": {
    "jp-MarkdownHeadingCollapsed": true,
    "tags": []
   },
   "source": [
    "# Operadores de comparação em cadeia"
   ]
  },
  {
   "cell_type": "code",
   "execution_count": 148,
   "id": "4fda8712-227b-4d4f-b0a9-65b7632f8df9",
   "metadata": {},
   "outputs": [
    {
     "data": {
      "text/plain": [
       "False"
      ]
     },
     "execution_count": 148,
     "metadata": {},
     "output_type": "execute_result"
    }
   ],
   "source": [
    "# AND as duas condições tem que ser verdadeira\n",
    "1 > 2 and 2 > 3"
   ]
  },
  {
   "cell_type": "code",
   "execution_count": 149,
   "id": "9fae2c3e-5ba9-49d2-a672-a07393d2e682",
   "metadata": {},
   "outputs": [
    {
     "data": {
      "text/plain": [
       "False"
      ]
     },
     "execution_count": 149,
     "metadata": {},
     "output_type": "execute_result"
    }
   ],
   "source": [
    "2 > 1 and 2 > 3"
   ]
  },
  {
   "cell_type": "code",
   "execution_count": 151,
   "id": "1f689974-4d35-43c2-8b71-ff8e0957cbb3",
   "metadata": {},
   "outputs": [
    {
     "data": {
      "text/plain": [
       "True"
      ]
     },
     "execution_count": 151,
     "metadata": {},
     "output_type": "execute_result"
    }
   ],
   "source": [
    "# OR se um for verdadeiro da TRUE\n",
    "2 > 1 or 2 > 3"
   ]
  },
  {
   "cell_type": "code",
   "execution_count": 155,
   "id": "ca902bbb-ed8b-43c3-978d-49a23c9c5cab",
   "metadata": {},
   "outputs": [
    {
     "data": {
      "text/plain": [
       "False"
      ]
     },
     "execution_count": 155,
     "metadata": {},
     "output_type": "execute_result"
    }
   ],
   "source": [
    "(2 > 1 or 2 > 3) and (2 > 11 or 2 > 3)"
   ]
  },
  {
   "cell_type": "markdown",
   "id": "9f6f53db-c070-4c84-b718-04a8610cb5d5",
   "metadata": {
    "jp-MarkdownHeadingCollapsed": true,
    "tags": []
   },
   "source": [
    "# If, Elif e Else"
   ]
  },
  {
   "cell_type": "markdown",
   "id": "620a41e4-110e-460c-bec2-159a5055f534",
   "metadata": {
    "jp-MarkdownHeadingCollapsed": true,
    "tags": []
   },
   "source": [
    "# Range"
   ]
  },
  {
   "cell_type": "markdown",
   "id": "0084b736-9c93-4300-9adc-35d606b1629c",
   "metadata": {
    "jp-MarkdownHeadingCollapsed": true,
    "tags": []
   },
   "source": [
    "# For"
   ]
  },
  {
   "cell_type": "code",
   "execution_count": 20,
   "id": "7df8f598-1567-4f72-93ca-4a8c9a6c1bd3",
   "metadata": {},
   "outputs": [
    {
     "name": "stdout",
     "output_type": "stream",
     "text": [
      "0\n",
      "1\n",
      "2\n",
      "3\n",
      "4\n",
      "5\n",
      "6\n",
      "7\n",
      "8\n",
      "9\n"
     ]
    }
   ],
   "source": [
    "# Repete função até acontecer \n",
    "for i in range(10):\n",
    "    print(i)"
   ]
  },
  {
   "cell_type": "code",
   "execution_count": null,
   "id": "09976bd8-a8a7-48d5-9ce0-eb8f3d7b311f",
   "metadata": {},
   "outputs": [],
   "source": []
  }
 ],
 "metadata": {
  "kernelspec": {
   "display_name": "Python 3 (ipykernel)",
   "language": "python",
   "name": "python3"
  },
  "language_info": {
   "codemirror_mode": {
    "name": "ipython",
    "version": 3
   },
   "file_extension": ".py",
   "mimetype": "text/x-python",
   "name": "python",
   "nbconvert_exporter": "python",
   "pygments_lexer": "ipython3",
   "version": "3.10.9"
  }
 },
 "nbformat": 4,
 "nbformat_minor": 5
}
